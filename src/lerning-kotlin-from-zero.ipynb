{
 "cells": [
  {
   "metadata": {},
   "cell_type": "markdown",
   "source": "# Practice has REPL mode with Kotlin notebook"
  },
  {
   "metadata": {
    "collapsed": true,
    "ExecuteTime": {
     "end_time": "2024-09-02T04:00:50.101743Z",
     "start_time": "2024-09-02T04:00:50.059161Z"
    }
   },
   "cell_type": "code",
   "source": "println(\"Hello, world x2!\")",
   "outputs": [
    {
     "name": "stdout",
     "output_type": "stream",
     "text": [
      "Hello, world x2!\n"
     ]
    }
   ],
   "execution_count": 5
  },
  {
   "metadata": {
    "ExecuteTime": {
     "end_time": "2024-09-02T04:00:50.273211Z",
     "start_time": "2024-09-02T04:00:50.171925Z"
    }
   },
   "cell_type": "code",
   "source": "34 + 60 / 20",
   "outputs": [
    {
     "data": {
      "text/plain": [
       "37"
      ]
     },
     "execution_count": 6,
     "metadata": {},
     "output_type": "execute_result"
    }
   ],
   "execution_count": 6
  },
  {
   "metadata": {},
   "cell_type": "markdown",
   "source": "# Variables and Strings \n"
  },
  {
   "metadata": {
    "ExecuteTime": {
     "end_time": "2024-09-02T04:00:50.380384Z",
     "start_time": "2024-09-02T04:00:50.338283Z"
    }
   },
   "cell_type": "code",
   "source": [
    "// Using double quotes into a string, we need to scape the double quotes\n",
    "println(\"Hello, \\\"world!\\\" papus\")"
   ],
   "outputs": [
    {
     "name": "stdout",
     "output_type": "stream",
     "text": [
      "Hello, \"world!\" papus\n"
     ]
    }
   ],
   "execution_count": 7
  },
  {
   "metadata": {
    "ExecuteTime": {
     "end_time": "2024-09-02T04:00:50.481434Z",
     "start_time": "2024-09-02T04:00:50.444886Z"
    }
   },
   "cell_type": "code",
   "source": [
    "// Using backsplash into string, we need to scape the backsplash also\n",
    "println(\"C:\\\\Program Files\\\\Kotlin\")"
   ],
   "outputs": [
    {
     "name": "stdout",
     "output_type": "stream",
     "text": [
      "C:\\Program Files\\Kotlin\n"
     ]
    }
   ],
   "execution_count": 8
  }
 ],
 "metadata": {
  "kernelspec": {
   "display_name": "Kotlin",
   "language": "kotlin",
   "name": "kotlin"
  },
  "language_info": {
   "name": "kotlin",
   "version": "1.9.23",
   "mimetype": "text/x-kotlin",
   "file_extension": ".kt",
   "pygments_lexer": "kotlin",
   "codemirror_mode": "text/x-kotlin",
   "nbconvert_exporter": ""
  }
 },
 "nbformat": 4,
 "nbformat_minor": 0
}
